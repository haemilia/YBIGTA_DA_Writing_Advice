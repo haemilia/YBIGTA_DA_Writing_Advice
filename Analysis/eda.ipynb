{
 "cells": [
  {
   "cell_type": "markdown",
   "metadata": {},
   "source": [
    "일단 필요한 거\n",
    "- 가져와서 모든 그래프 다 그려보기\n"
   ]
  },
  {
   "cell_type": "code",
   "execution_count": 4,
   "metadata": {},
   "outputs": [],
   "source": [
    "import json\n",
    "import pandas as pd\n",
    "import numpy as np\n",
    "import matplotlib.pyplot as plt"
   ]
  },
  {
   "cell_type": "code",
   "execution_count": 2,
   "metadata": {},
   "outputs": [],
   "source": [
    "analysis_path = {\n",
    "    \"articles\":\"C:/Users/lhi30/Haein/2023/YBIGTA/2023-2/DA/Writing_Advice/analyzed_data/article/articles_ytn_analysis.json\",\n",
    "    \"abstract\":\"C:/Users/lhi30/Haein/2023/YBIGTA/2023-2/DA/Writing_Advice/analyzed_data/abstract/abstract_analysis.json\",\n",
    "    \"essay\":\"C:/Users/lhi30/Haein/2023/YBIGTA/2023-2/DA/Writing_Advice/analyzed_data/essay/essay_analysis.json\",\n",
    "    \"literature\":\"C:/Users/lhi30/Haein/2023/YBIGTA/2023-2/DA/Writing_Advice/analyzed_data/literature/literature_analysis.json\",\n",
    "    }\n",
    "data_path = {\n",
    "    \"articles\":\"C:/Users/lhi30/Haein/2023/YBIGTA/2023-2/DA/Writing_Advice/analyzed_data/article/articles_data.json\",\n",
    "    \"abstract\":\"C:/Users/lhi30/Haein/2023/YBIGTA/2023-2/DA/Writing_Advice/analyzed_data/abstract/abstract_data.json\",\n",
    "    \"essay\":\"C:/Users/lhi30/Haein/2023/YBIGTA/2023-2/DA/Writing_Advice/analyzed_data/essay/essay_data.json\",\n",
    "    \"literature\":\"C:/Users/lhi30/Haein/2023/YBIGTA/2023-2/DA/Writing_Advice/analyzed_data/literature/literature_data.json\",\n",
    "}\n",
    "category = \"abstract\"\n",
    "with open(analysis_path[category]) as json_file:\n",
    "        analysis = json.load(json_file)\n",
    "with open(data_path[category]) as json_file:\n",
    "        data = json.load(json_file)"
   ]
  },
  {
   "cell_type": "code",
   "execution_count": 141,
   "metadata": {},
   "outputs": [],
   "source": [
    "def draw_graph(distribution, new_input = 0, ):\n",
    "    fig, ax = plt.subplots()\n",
    "    fig.set_facecolor('white')\n",
    "    ax.hist(distribution, bins = 100, color = '#cdb79e', density = True)\n",
    "    ax.axvline(new_input, color = '#000080')\n",
    "    plt.show()"
   ]
  },
  {
   "cell_type": "code",
   "execution_count": 18,
   "metadata": {},
   "outputs": [
    {
     "data": {
      "text/plain": [
       "dict_keys(['string_length', 'num_tokens', 'num_sentences', 'num_token_sentences', 'pos_freq', 'token_variety', 'rel_position'])"
      ]
     },
     "execution_count": 18,
     "metadata": {},
     "output_type": "execute_result"
    }
   ],
   "source": [
    "analysis.keys()"
   ]
  },
  {
   "cell_type": "code",
   "execution_count": 91,
   "metadata": {},
   "outputs": [],
   "source": [
    "def list_extend(lst):\n",
    "    result = []\n",
    "    for el in lst:\n",
    "        result.extend(el)\n",
    "    return result\n",
    "def rel_pos_extend(dct):\n",
    "    for k, v in dct.items():\n",
    "        dct[k] = list_extend(v)\n",
    "    return dct\n",
    "def dict_extend(lst):\n",
    "    result = {}\n",
    "    for dct in lst:\n",
    "        for k, v in dct.items():\n",
    "            if k in result.keys():\n",
    "                result[k].extend(v)\n",
    "            else: \n",
    "                result[k] = v\n",
    "\n",
    "    return result    \n",
    "def freq_extend(lst):\n",
    "    result = {}\n",
    "    for dct in lst:\n",
    "        for k, v in dct.items():\n",
    "            if k in result.keys():\n",
    "                if isinstance(result[k], list):\n",
    "                    result[k].append(v)\n",
    "                else:\n",
    "                    result[k] = [result[k], v]\n",
    "            else:\n",
    "                result[k] = v\n",
    "    return result\n",
    "    "
   ]
  },
  {
   "cell_type": "code",
   "execution_count": 95,
   "metadata": {},
   "outputs": [
    {
     "data": {
      "text/plain": [
       "43"
      ]
     },
     "execution_count": 95,
     "metadata": {},
     "output_type": "execute_result"
    }
   ],
   "source": [
    "len(flat_a_rel_freq.keys())"
   ]
  },
  {
   "cell_type": "code",
   "execution_count": 93,
   "metadata": {},
   "outputs": [],
   "source": [
    "flat_token_variety = list_extend(analysis['token_variety'])\n",
    "flat_rel_position = rel_pos_extend(dict_extend(analysis['rel_position']))\n",
    "flat_num_token_sentences = list_extend(analysis['num_token_sentences'])\n",
    "flat_s_rel_freq = freq_extend(list_extend(analysis['pos_freq']['s_rel_freq']))\n",
    "flat_a_rel_freq = freq_extend(analysis['pos_freq']['a_rel_freq'])"
   ]
  },
  {
   "cell_type": "code",
   "execution_count": 132,
   "metadata": {},
   "outputs": [],
   "source": [
    "distributions = {\n",
    "    \"token_variety\": flat_token_variety,\n",
    "    \"rel_position\": flat_rel_position,\n",
    "    \"num_token_sentences\": flat_num_token_sentences,\n",
    "    \"s_rel_freq\": flat_s_rel_freq,\n",
    "    \"a_rel_freq\": flat_a_rel_freq\n",
    "}"
   ]
  },
  {
   "cell_type": "code",
   "execution_count": 104,
   "metadata": {},
   "outputs": [
    {
     "data": {
      "text/plain": [
       "30"
      ]
     },
     "execution_count": 104,
     "metadata": {},
     "output_type": "execute_result"
    }
   ],
   "source": [
    "kkma_groups = {\n",
    "    'N': [{'NNG', 'NNP', 'NNB', 'NNM'}, \"체언\"],\n",
    "    'V': [{'VV', 'VA', 'VXV', 'VXA', 'VCP', 'VCN'}, '용언'],\n",
    "    'VV': [{'VV'}, '동사'],\n",
    "    'VA': [{'VA'},'형용사'],\n",
    "    'VX': [{'VXV', 'VXA'}, '보조 용언'],\n",
    "    'VC': [{'VCP', 'VCN'}, '긍정/부정 지정사'],\n",
    "    'MD': [{'MDT', 'MDN'}, '관형사'],\n",
    "    'MA': [{'MAG', 'MAC'}, '부사'],\n",
    "    'IC': [{'IC'}, '감탄사'],\n",
    "    'J': [{'JKS', 'JKC', 'JKG', 'JKO', 'JKM', 'JKI', 'JKQ', 'JX', 'JC'}, '조사'],\n",
    "    'EP': [{'EPH', 'EPT', 'EPP'}, '선어말 어미'],\n",
    "    'EFN': [{'EFN'}, '평서형 종결 어미'],\n",
    "    'EFQ': [{'EFQ'}, '의문형 종결 어미'],\n",
    "    'EFO': [{'EFO'}, '명령형 종결 어미'],\n",
    "    'EFA': [{'EFA'}, '청유형 종결 어미'],\n",
    "    'EFI': [{'EFI'}, '감탄형 종결 어미'],\n",
    "    'EFR': [{'EFR'}, '존칭형 종결 어미'],\n",
    "    'EC': [{'ECE', 'ECD', 'ECS'}, '연결 어미'],\n",
    "    'ET': [{'ETN', 'ETD'}, '전성 어미'],\n",
    "    'X': [{'XPN', 'XPV', 'XSN', 'XSV', 'XSA', 'XR'}, '접두/접미사, 어근'],\n",
    "    'SF': [{'SF'}, '마침표, 물음표, 느낌표'],\n",
    "    'SP': [{'SP'}, '쉼표, 가운뎃점, 콜론, 빗금'],\n",
    "    'SS': [{'SS'}, '따옴표, 괄호표, 줄표'],\n",
    "    'SE': [{'SE'}, '줄임표'],\n",
    "    'SO': [{'SO'}, '붙임표'],\n",
    "    'SW': [{'SW'}, '기타 기호'],\n",
    "    'U': [{'UN', 'UV', 'UE'}, '분석 불능'],\n",
    "    'OL': [{'OL'}, '외국어'],\n",
    "    'OH': [{'OH'}, '한자'],\n",
    "    'ON': [{'ON'}, '숫자'],\n",
    "}\n",
    "len(kkma_groups.keys())"
   ]
  },
  {
   "cell_type": "code",
   "execution_count": 99,
   "metadata": {},
   "outputs": [],
   "source": [
    "def check_key(key,  value, target_dct):\n",
    "    if key in target_dct.keys():\n",
    "        if isinstance(target_dct[key], list) and isinstance(value, list):\n",
    "            target_dct[key].extend(value)\n",
    "        elif isinstance(target_dct[key], list) and not isinstance(value, list):\n",
    "            target_dct[key].append(value)\n",
    "        else:\n",
    "            target_dct = [target_dct[key], value]\n",
    "    else:\n",
    "        target_dct[key] = value\n",
    "            \n",
    "def pos_group(dct, kkma_groups):\n",
    "    result = {}\n",
    "    for k, v in dct.items():\n",
    "        for kk, vv in kkma_groups.items():\n",
    "            if k in vv[0]:\n",
    "                check_key(kk, v, result)\n",
    "    return result"
   ]
  },
  {
   "cell_type": "code",
   "execution_count": 138,
   "metadata": {},
   "outputs": [],
   "source": [
    "flat_a_regroup = pos_group(flat_a_rel_freq, kkma_groups)\n",
    "flat_s_regroup = pos_group(flat_s_rel_freq, kkma_groups)\n",
    "flat_position_regroup = pos_group(flat_rel_position, kkma_groups)"
   ]
  },
  {
   "cell_type": "code",
   "execution_count": 140,
   "metadata": {},
   "outputs": [],
   "source": [
    "regrouped_distributions = {\n",
    "    \"token_variety\": flat_token_variety,\n",
    "    \"rel_position\": flat_position_regroup,\n",
    "    \"num_token_sentences\": flat_num_token_sentences,\n",
    "    \"s_rel_freq\": flat_s_regroup,\n",
    "    \"a_rel_freq\": flat_a_regroup,\n",
    "}"
   ]
  },
  {
   "cell_type": "code",
   "execution_count": 142,
   "metadata": {},
   "outputs": [
    {
     "data": {
      "image/png": "[encoded data removed]",
      "text/plain": [
       "<Figure size 640x480 with 1 Axes>"
      ]
     },
     "metadata": {},
     "output_type": "display_data"
    }
   ],
   "source": [
    "draw_graph(flat_a_regroup['N'])"
   ]
  },
  {
   "cell_type": "code",
   "execution_count": 120,
   "metadata": {},
   "outputs": [],
   "source": [
    "def find_percentage(new_input: int, distribution):\n",
    "    distribution = np.array(distribution)\n",
    "    under = len(distribution[distribution < new_input])\n",
    "    over = len(distribution[distribution > new_input])\n",
    "    if over < under:\n",
    "        higher_than_most = True\n",
    "        result = (over / len(distribution)) * 100\n",
    "    else:\n",
    "        higher_than_most = False\n",
    "        result = (under / len(distribution)) * 100\n",
    "    return (higher_than_most, result)"
   ]
  },
  {
   "cell_type": "code",
   "execution_count": 128,
   "metadata": {},
   "outputs": [],
   "source": [
    "def interpret(higher_than_most: bool, result: float, tag: str, kkma_groups: dict, category: str):\n",
    "    name = kkma_groups[tag][1]\n",
    "    c_dict = {'articles': '기사',\n",
    "              'abstract': '논문 초록', \n",
    "              'essay': '에세이',\n",
    "              'literature': '소설'}\n",
    "    if higher_than_most:\n",
    "        return f\"너는 {c_dict[category]}의 {100 - result:.2f}% 보다 {name}(을/를) 많이 사용했다.\"\n",
    "    else:\n",
    "        return f\"너는 {c_dict[category]}의 {100 - result:.2f}% 보다 {name}(을/를) 적게 사용했다.\""
   ]
  },
  {
   "cell_type": "code",
   "execution_count": null,
   "metadata": {},
   "outputs": [],
   "source": []
  },
  {
   "cell_type": "code",
   "execution_count": 131,
   "metadata": {},
   "outputs": [
    {
     "name": "stdout",
     "output_type": "stream",
     "text": [
      "(False, 39.150354019158684)\n"
     ]
    },
    {
     "data": {
      "image/png": "[encoded data removed]",
      "text/plain": [
       "<Figure size 640x480 with 1 Axes>"
      ]
     },
     "metadata": {},
     "output_type": "display_data"
    },
    {
     "name": "stdout",
     "output_type": "stream",
     "text": [
      "너는 논문 초록의 60.85% 보다 체언(을/를) 적게 사용했다.\n"
     ]
    }
   ],
   "source": [
    "higher, percent = find_percentage(0.1, flat_s_regroup['N'])\n",
    "print(find_percentage(0.1, flat_s_regroup['N']))\n",
    "draw_graph(flat_s_regroup['N'], 0.1)\n",
    "print(interpret(higher, percent, 'N', kkma_groups, 'abstract'))"
   ]
  }
 ],
 "metadata": {
  "kernelspec": {
   "display_name": "hunjangnim",
   "language": "python",
   "name": "hunjangnim"
  },
  "language_info": {
   "codemirror_mode": {
    "name": "ipython",
    "version": 3
   },
   "file_extension": ".py",
   "mimetype": "text/x-python",
   "name": "python",
   "nbconvert_exporter": "python",
   "pygments_lexer": "ipython3",
   "version": "3.9.17"
  },
  "orig_nbformat": 4
 },
 "nbformat": 4,
 "nbformat_minor": 2
}
