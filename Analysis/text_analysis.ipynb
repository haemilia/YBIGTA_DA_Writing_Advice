{
 "cells": [
  {
   "cell_type": "code",
   "execution_count": 1,
   "metadata": {},
   "outputs": [],
   "source": [
    "import json\n",
    " \n",
    "with open(\"C:/Users/lhi30/Haein/2023/YBIGTA/2023-2/DA/Writing_Advice/articles_ytn_tokenized.json\") as json_file:\n",
    "    data = json.load(json_file)"
   ]
  },
  {
   "cell_type": "markdown",
   "metadata": {},
   "source": [
    "# Our Analysis Variables:\n",
    "\n",
    "- Length of the string 텍스트 스트링의 길이 (for equal comparison)\n",
    "- Number of tokens 토큰 수\n",
    "- Number of sentences 문장 수\n",
    "- Tokens sorted by frequency 빈도 수로 정렬한 토큰 리스트\n",
    "- Sentence structure category sorted by frequency 빈도 수로 정렬한 문장 구조 카테고리"
   ]
  },
  {
   "cell_type": "code",
   "execution_count": 8,
   "metadata": {},
   "outputs": [
    {
     "data": {
      "text/plain": [
       "6667"
      ]
     },
     "execution_count": 8,
     "metadata": {},
     "output_type": "execute_result"
    }
   ],
   "source": [
    "len(data['text'])"
   ]
  },
  {
   "cell_type": "markdown",
   "metadata": {},
   "source": [
    "## Length of the string 텍스트 스트링의 길이 (for equal comparison)"
   ]
  },
  {
   "cell_type": "code",
   "execution_count": 4,
   "metadata": {},
   "outputs": [
    {
     "name": "stdout",
     "output_type": "stream",
     "text": [
      "책 읽는 학생 시선을 추적해 집중력과 이해도를 확인하고, 메타버스로 뇌파를 분석해 상담 자료로 쓰는 교실.AI 디지털 교과서가 도입되는 2025년 이후에는 좀 더 보편적인 교실 모습이 될 텐데, 미리 경험한 교사들은 하나같이 '도구'보다 '수업'에 집중해야 한다고 강조합니다.장아영 기자입니다.자율 학습 시간, 학생들이 책을 읽고 있지만 실제로 집중하고 있는지 교사는 알 길이 없습니다.이 독해력 향상 도구 진단 페이지에는 학생이 얼마나 집중했는지, 내용을 잘 기억하고 있는지가 뜹니다.시선 경로와 눈 깜빡임 빈도를 분석한 결과입니다.상담에 VR기기와 메타버스로 뇌파 측정을 활용한 교사도 있습니다.사공정일 / 대구 안일초등학교 교사 : 종이 설문지도 저는 해봤습니다. '없다' '모르겠다' 이런 답변이 되게 많아요. 특히 남학생들 그렇거든요. 아이들이 메타버스 자체를 굉장히 좋아해요. 아, 메타버스로 접근을 해보면 좋지 않을까?교육부가 나서서 에듀테크 기업과 교실을 연결해주고 있습니다.교사는 수업에 활력을 불어넣는 수단을 얻고, 기업은 교실 현장의 반응을 얻습니다.현재 시장에 나와 있는 에듀테크 제품은 이름이 알려진 것만 6백 개가 넘습니다.코로나19 영향으로 매출액도 1년에 10% 가까이 뛰어, 5조 원 넘는 규모로 불어났습니다.지금은 관심 있는 교사들만 나서 에듀테크를 보조자료로 수업에 접목하고 있지만, 2025년 AI 교과서가 도입되면 전국의 초등학교 3, 4학년과 중·고등학교 1학년 교실에서 이와 비슷한 광경이 펼쳐지게 됩니다.김 용 / 한국방송통신대학교 교수 : 학교 현장에 에듀테크가 들어가기 위해선 플랫폼, 그러니까 솔루션을 생각해야 하고, 거기에 담길 콘텐츠, 그다음에 학생들하고 교사가 활동하는 데이터가 어떻게 축적되느냐…. 디지털 교과서도 이 3가지를 모두 가져가야 성공적인 (정착을 할 수 있을 거라 봅니다.)여러 도구를 써 본 교사들은 한결같이 핵심은 기술이 아니라 교사와 학생의 상호작용이라고 말합니다.박재찬 / 광주 성덕초등학교 교사 : 어떤 도구를 사용하느냐보다 중요한 건 그 도구로 어떤 수업을 하느냐라고 생각합니다.수집한 교육 데이터를 어떻게, 어디까지 활용하느냐도 주요 쟁점인데 교육학술정보원은 교육데이터센터를 신설해 관련 법을 살피고 있습니다..\n"
     ]
    }
   ],
   "source": [
    "string_text = data['text'][100]\n",
    "print(string_text)"
   ]
  },
  {
   "cell_type": "code",
   "execution_count": 5,
   "metadata": {},
   "outputs": [
    {
     "data": {
      "text/plain": [
       "1115"
      ]
     },
     "execution_count": 5,
     "metadata": {},
     "output_type": "execute_result"
    }
   ],
   "source": [
    "len(string_text)"
   ]
  },
  {
   "cell_type": "code",
   "execution_count": null,
   "metadata": {},
   "outputs": [],
   "source": []
  },
  {
   "cell_type": "markdown",
   "metadata": {},
   "source": [
    "## Number of tokens 토큰 수"
   ]
  },
  {
   "cell_type": "markdown",
   "metadata": {},
   "source": [
    "## Number of sentences 문장 수"
   ]
  },
  {
   "cell_type": "markdown",
   "metadata": {},
   "source": [
    "## Tokens sorted by frequency 빈도 수로 정렬한 토큰 리스트"
   ]
  },
  {
   "cell_type": "markdown",
   "metadata": {},
   "source": [
    "## Sentence structure category sorted by frequency 빈도 수로 정렬한 문장 구조 카테고리"
   ]
  }
 ],
 "metadata": {
  "kernelspec": {
   "display_name": "hunjangnim",
   "language": "python",
   "name": "hunjangnim"
  },
  "language_info": {
   "codemirror_mode": {
    "name": "ipython",
    "version": 3
   },
   "file_extension": ".py",
   "mimetype": "text/x-python",
   "name": "python",
   "nbconvert_exporter": "python",
   "pygments_lexer": "ipython3",
   "version": "3.9.17"
  },
  "orig_nbformat": 4
 },
 "nbformat": 4,
 "nbformat_minor": 2
}
