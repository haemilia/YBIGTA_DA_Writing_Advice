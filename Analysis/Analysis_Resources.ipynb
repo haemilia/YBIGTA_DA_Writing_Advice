{
 "cells": [
  {
   "attachments": {},
   "cell_type": "markdown",
   "metadata": {},
   "source": [
    "- Tokenization\n",
    "- POS-tagging\n",
    "- "
   ]
  }
 ],
 "metadata": {
  "kernelspec": {
   "display_name": "thumbenv",
   "language": "python",
   "name": "thumbenv"
  },
  "language_info": {
   "name": "python",
   "version": "3.9.16"
  },
  "orig_nbformat": 4
 },
 "nbformat": 4,
 "nbformat_minor": 2
}
